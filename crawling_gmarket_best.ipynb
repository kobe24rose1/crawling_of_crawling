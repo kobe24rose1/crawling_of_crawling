{
 "cells": [
  {
   "cell_type": "code",
   "execution_count": 24,
   "source": [
    "import requests\r\n",
    "from bs4 import BeautifulSoup\r\n",
    "\r\n",
    "res = requests.get('http://corners.gmarket.co.kr/Bestsellers?viewType=G&groupCode=G06')\r\n",
    "soup = BeautifulSoup(res.content, 'html.parser')\r\n",
    "\r\n",
    "best_lists = soup.select('div.best-list')\r\n",
    "best_items = best_lists[1]\r\n",
    "products = best_items.select('ul > li')\r\n",
    "\r\n",
    "for index, product in enumerate(products):\r\n",
    "    title = product.select_one('a.itemname')\r\n",
    "    price = product.select_one('div.s-price span')\r\n",
    "    print(index + 1, title.get_text(), price.get_text())\r\n"
   ],
   "outputs": [],
   "metadata": {}
  },
  {
   "cell_type": "code",
   "execution_count": null,
   "source": [],
   "outputs": [],
   "metadata": {}
  },
  {
   "cell_type": "code",
   "execution_count": null,
   "source": [],
   "outputs": [],
   "metadata": {}
  }
 ],
 "metadata": {
  "orig_nbformat": 4,
  "language_info": {
   "name": "python",
   "version": "3.8.8",
   "mimetype": "text/x-python",
   "codemirror_mode": {
    "name": "ipython",
    "version": 3
   },
   "pygments_lexer": "ipython3",
   "nbconvert_exporter": "python",
   "file_extension": ".py"
  },
  "kernelspec": {
   "name": "python3",
   "display_name": "Python 3.8.8 64-bit ('base': conda)"
  },
  "interpreter": {
   "hash": "934e9733469ba33743180f4f0a45fb5fa97889cb236cef54782b3750effb92db"
  }
 },
 "nbformat": 4,
 "nbformat_minor": 2
}